{
 "cells": [
  {
   "cell_type": "code",
   "execution_count": null,
   "id": "7e6d76df-7428-4346-be3c-e0bd991bd738",
   "metadata": {},
   "outputs": [],
   "source": [
    "%load_ext autoreload\n",
    "%autoreload 2\n",
    "\n",
    "import sys\n"
   ]
  },
  {
   "cell_type": "code",
   "execution_count": null,
   "id": "81889137-f979-465b-a5e2-97439b152ee1",
   "metadata": {},
   "outputs": [],
   "source": [
    "import os\n",
    "\n",
    "import pandas\n",
    "\n",
    "from software.dataset.hussain2021 import load_data, load_meta\n",
    "from firmware.process import GravitySplitter"
   ]
  },
  {
   "cell_type": "code",
   "execution_count": null,
   "id": "b362e278-c86e-4ac8-b6f6-04db02b42b6c",
   "metadata": {},
   "outputs": [],
   "source": [
    "dataset_path = './data/hx5kkkbr3j-1'\n",
    "data = load_data(dataset_path)\n",
    "data.head()"
   ]
  },
  {
   "cell_type": "code",
   "execution_count": null,
   "id": "10384339-babb-40b0-bab5-d053112ec66d",
   "metadata": {},
   "outputs": [],
   "source": [
    "meta = load_meta(data)\n",
    "meta"
   ]
  },
  {
   "cell_type": "code",
   "execution_count": null,
   "id": "b5cf44d9-63c7-402c-8ca5-fe2fb2ac92a3",
   "metadata": {},
   "outputs": [],
   "source": [
    "# only accelerometer data\n",
    "acc = data.dropna(subset=['acc_x', 'acc_y', 'acc_z']).drop(columns=['mag_x', 'mag_y', 'mag_z', 'gyro_x', 'gyro_y', 'gyro_z'])\n",
    "acc = acc.reset_index()\n",
    "acc = pandas.merge(acc, meta, left_on='filename', right_on='filename')\n",
    "# Setting 2 has more specific protocol\n",
    "# Pause for a few seconds in between different regions and bring the brush to a reference point\n",
    "acc = acc[acc.setting == 'S2'] \n",
    "# Choose location mounted on brush\n",
    "acc = acc[acc.sensor_location == 'A']\n",
    "# Choose only manual brushing, not electric\n",
    "acc = acc[acc.brush == 'M']\n"
   ]
  },
  {
   "cell_type": "code",
   "execution_count": null,
   "id": "262575d0-a9a0-4663-a6ea-7b7a873f665d",
   "metadata": {},
   "outputs": [],
   "source": [
    "def resample(df, freq='1min', func='median', group='filename', time='time', numeric_only=True):\n",
    "    grouped = df.reset_index().set_index(time).groupby(group, observed=True).resample(freq)\n",
    "    out = grouped.agg(func, numeric_only=numeric_only).reset_index().set_index([group, time])\n",
    "\n",
    "    return out\n",
    "\n",
    "# Resample to 50 Hz\n",
    "acc_re = resample(acc, freq='20ms', func='mean').reset_index()\n",
    "acc_re"
   ]
  },
  {
   "cell_type": "code",
   "execution_count": null,
   "id": "d8d9cc48-1e8f-4c92-a748-335181316dba",
   "metadata": {},
   "outputs": [],
   "source": [
    "acc_re.filename.nunique()"
   ]
  },
  {
   "cell_type": "code",
   "execution_count": null,
   "id": "5cc80038-62c4-41fd-8682-f6d983720d79",
   "metadata": {},
   "outputs": [],
   "source": [
    "\n",
    "import array\n",
    "\n",
    "# TODO: downsample to 50 Hz?\n",
    "# TODO: use micropython to process\n",
    "def process(df, samplerate=200, groupby='filename', columns=['acc_x', 'acc_y', 'acc_z'], time='time'):\n",
    "\n",
    "    def process_timeseries(g, splitter=None):\n",
    "        g = g.sort_values(time)\n",
    "        \n",
    "        splitter = GravitySplitter(samplerate=samplerate)\n",
    "\n",
    "        out = []\n",
    "        index_values = []\n",
    "        for idx, row in g.iterrows():\n",
    "            xyz = array.array('f', row[columns])\n",
    "            splitter.process(xyz)\n",
    "        \n",
    "            values = list(splitter.gravity) + list(splitter.motion)\n",
    "            out.append(values)\n",
    "            index_values.append(idx)\n",
    "\n",
    "        names = ['gravity_x', 'gravity_y', 'gravity_z', 'motion_x', 'motion_y', 'motion_z']\n",
    "        o = pandas.DataFrame(out, columns=names)\n",
    "        o.index = g.index\n",
    "        print('pp', len(o))\n",
    "        return o\n",
    "    \n",
    "    groups = df.groupby(groupby, as_index=False)\n",
    "    print('groups', len(groups))\n",
    "    f = groups.apply(process_timeseries, include_groups=False)\n",
    "    f.index = f.index.droplevel(0)\n",
    "    #print(df.head())\n",
    "    #print('sss\\n\\n')\n",
    "    #print(f.head())\n",
    "    \n",
    "    out = pandas.merge(df, f, left_index=True, right_index=True)\n",
    "    return out\n",
    "\n",
    "ss = pandas.Series(acc_re.filename.unique()).sample(n=42, random_state=1)\n",
    "sub = acc_re[acc_re.filename.isin(ss)]\n",
    "pp = process(sub.set_index(['filename', 'time']))\n",
    "pp"
   ]
  },
  {
   "cell_type": "code",
   "execution_count": null,
   "id": "e88031dd-0473-44e0-b994-c23f913f8214",
   "metadata": {},
   "outputs": [],
   "source": [
    "def vector_magnitude(vectors, axis=None):\n",
    "    \"\"\"Compute the magnitude of multi-dimensional vectors\"\"\"\n",
    "    # alternative is numpy.linalg.norm(vectors)\n",
    "    mag = numpy.linalg.norm(vectors, axis=axis)\n",
    "    return mag\n"
   ]
  },
  {
   "cell_type": "code",
   "execution_count": null,
   "id": "8ff4da87-919a-4182-9c8d-6905da6e3ed8",
   "metadata": {},
   "outputs": [],
   "source": [
    "mm = pp.reset_index()\n",
    "mm = pandas.merge(mm, meta, left_on='filename', right_on='filename')\n",
    "mm"
   ]
  },
  {
   "cell_type": "code",
   "execution_count": null,
   "id": "5f6c717b-7509-4e75-bcec-6f88d10f2646",
   "metadata": {},
   "outputs": [],
   "source": [
    "import plotly.express\n",
    "\n",
    "plotly.express.line(mm, \n",
    "                    x='elapsed',\n",
    "                    y=['gravity_x', 'gravity_y', 'gravity_z'],\n",
    "                    facet_row='filename',\n",
    "                    height=1000,\n",
    "                    width=1000,\n",
    "                   )\n",
    "                    \n"
   ]
  },
  {
   "cell_type": "code",
   "execution_count": null,
   "id": "8f47e425-66c9-4343-a425-f6dcd389cb24",
   "metadata": {
    "scrolled": true
   },
   "outputs": [],
   "source": [
    "plotly.express.line(mm, \n",
    "                    x='elapsed',\n",
    "                    y=['motion_x', 'motion_y', 'motion_z'],\n",
    "                    facet_row='filename',\n",
    "                    height=1000,\n",
    "                    width=1000,\n",
    "                   )\n",
    "                    \n"
   ]
  },
  {
   "cell_type": "code",
   "execution_count": null,
   "id": "830712d7-4cfc-4b09-9689-353077a9ff21",
   "metadata": {},
   "outputs": [],
   "source": [
    "import librosa\n",
    "import numpy\n",
    "from matplotlib import pyplot as plt"
   ]
  },
  {
   "cell_type": "code",
   "execution_count": null,
   "id": "e0d0bdd2-0298-401b-9e70-184afce84f71",
   "metadata": {},
   "outputs": [],
   "source": [
    "def make_spectrogram(df, sr=50, hop_length=16, columns=None):\n",
    "    if columns is None:\n",
    "        columns = ['acc_x', 'acc_y', 'acc_z']\n",
    "    df = df.sort_values('elapsed')\n",
    "    df = df.dropna(subset=columns)\n",
    "    \n",
    "    n_fft = 4*hop_length\n",
    "\n",
    "    # Make combined XYZ spectrogram, concat on frequency axis\n",
    "    ss = []\n",
    "    for c in columns:\n",
    "        v = df[c].values\n",
    "        S = librosa.stft(v, n_fft=n_fft, hop_length=hop_length)\n",
    "        S = numpy.abs(S)\n",
    "        S = librosa.amplitude_to_db(S)\n",
    "        #S = S[1:,:] # drop DC\n",
    "        ss.append(S)\n",
    "\n",
    "    o = numpy.concatenate(ss)\n",
    "    return o\n",
    "\n",
    "specs = mm.groupby('filename').apply(make_spectrogram, include_groups=False).to_frame().rename(columns={0:'spectrogram'})\n",
    "specs"
   ]
  },
  {
   "cell_type": "code",
   "execution_count": null,
   "id": "ad3ea876-013a-4e66-a335-d364e3b6d1df",
   "metadata": {},
   "outputs": [],
   "source": [
    "    columns = ['motion_x', 'motion_y', 'motion_z']"
   ]
  },
  {
   "cell_type": "code",
   "execution_count": null,
   "id": "6d37f679-451e-48a2-9fa6-3b12090ae819",
   "metadata": {
    "scrolled": true
   },
   "outputs": [],
   "source": [
    "def to_spectrum(S):\n",
    "    s = numpy.mean(S, axis=1)\n",
    "    o = pandas.Series(s, index=numpy.arange(len(s)))\n",
    "    return o\n",
    "\n",
    "\n",
    "def compute_spectrums(df):\n",
    "    dfs = []\n",
    "    for axis in ['x', 'y', 'z']:\n",
    "        c = f'motion_{axis}'\n",
    "    \n",
    "        freqs = librosa.fft_frequencies(n_fft=4*16, sr=50)\n",
    "    \n",
    "        specs = df.groupby('filename').apply(make_spectrogram, include_groups=False, columns=[c]).to_frame().rename(columns={0:'spectrogram'})\n",
    "        ss = specs.spectrogram.apply(make_spectrum)\n",
    "        ss.columns = freqs\n",
    "\n",
    "        # Normalize\n",
    "        N = numpy.mean(ss.values, axis=1, keepdims=1)\n",
    "        ss = pandas.DataFrame(ss-N, columns=ss.columns, index=ss.index)\n",
    "        \n",
    "        sf = pandas.melt(ss.reset_index(), id_vars='filename', var_name='frequency')\n",
    "        sf['axis'] = axis\n",
    "        \n",
    "        dfs.append(sf)\n",
    "\n",
    "    out = pandas.concat(dfs)\n",
    "    return out\n",
    "\n",
    "spectrums = compute_spectrums(mm)\n",
    "#spectrums\n"
   ]
  },
  {
   "cell_type": "code",
   "execution_count": null,
   "id": "9ae396c2-a51e-4d2a-a12f-d6facab372f1",
   "metadata": {},
   "outputs": [],
   "source": [
    "fig = plotly.express.line(spectrums,\n",
    "                    facet_row='axis',\n",
    "                    color='filename',\n",
    "                    x='frequency',\n",
    "                    y='value',\n",
    "                    height=800,\n",
    "                    width=1500,\n",
    ")\n",
    "fig.add_vrect(x0=2.0, x1=5.0, line_width=0, fillcolor=\"green\", opacity=0.2, layer='below')"
   ]
  },
  {
   "cell_type": "code",
   "execution_count": null,
   "id": "1e2ec8a6-89b3-42ec-ace2-2fd17a54f8cd",
   "metadata": {},
   "outputs": [],
   "source": [
    "for filename, spec in specs.iterrows():\n",
    "    #print(filename)\n",
    "    fig, ax = plt.subplots(1, figsize=(20, 5))\n",
    "    S = spec.spectrogram\n",
    "    N = numpy.quantile(S, q=0.10, axis=1, keepdims=True)\n",
    "    #S = S - N\n",
    "    #print(S.shape, N.shape)\n",
    "    librosa.display.specshow(ax=ax, data=S)"
   ]
  },
  {
   "cell_type": "code",
   "execution_count": null,
   "id": "425844e1-766b-4127-92c9-571686181052",
   "metadata": {},
   "outputs": [],
   "source": [
    "fig = plotly.express.scatter(mm, \n",
    "                    x='gravity_y',\n",
    "                    y='gravity_z',\n",
    "                    color='filename',\n",
    "                    height=800,\n",
    "                    width=800,\n",
    "                    opacity=0.2,\n",
    "                   )\n",
    "fig.update_traces(marker=dict(size=5.0))\n",
    "fig.update_layout(showlegend=False)"
   ]
  },
  {
   "cell_type": "code",
   "execution_count": null,
   "id": "81e71370-43c7-4c26-a773-db791275d768",
   "metadata": {},
   "outputs": [],
   "source": [
    "fig = plotly.express.scatter_matrix(mm.sample(frac=0.05),\n",
    "    dimensions=[\"motion_x\", \"motion_y\", \"motion_z\"],\n",
    "    color=\"subject\",\n",
    "    height=1200,\n",
    "    width=1200,\n",
    "    opacity=0.2,\n",
    ")\n",
    "fig.update_traces(marker=dict(size=3.0))\n",
    "fig.show()"
   ]
  },
  {
   "cell_type": "code",
   "execution_count": null,
   "id": "c4edc5d5-3490-4389-b3b0-15146e2ec059",
   "metadata": {},
   "outputs": [],
   "source": []
  },
  {
   "cell_type": "code",
   "execution_count": null,
   "id": "28dd3c10-0473-4ca3-a626-8736a4625c0c",
   "metadata": {},
   "outputs": [],
   "source": []
  }
 ],
 "metadata": {
  "kernelspec": {
   "display_name": "Python 3 (ipykernel)",
   "language": "python",
   "name": "python3"
  },
  "language_info": {
   "codemirror_mode": {
    "name": "ipython",
    "version": 3
   },
   "file_extension": ".py",
   "mimetype": "text/x-python",
   "name": "python",
   "nbconvert_exporter": "python",
   "pygments_lexer": "ipython3",
   "version": "3.12.4"
  }
 },
 "nbformat": 4,
 "nbformat_minor": 5
}
