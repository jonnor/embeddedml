{
 "cells": [
  {
   "cell_type": "code",
   "execution_count": null,
   "id": "7e6d76df-7428-4346-be3c-e0bd991bd738",
   "metadata": {},
   "outputs": [],
   "source": [
    "%load_ext autoreload\n",
    "%autoreload 2\n",
    "\n",
    "import sys"
   ]
  },
  {
   "cell_type": "code",
   "execution_count": null,
   "id": "81889137-f979-465b-a5e2-97439b152ee1",
   "metadata": {},
   "outputs": [],
   "source": [
    "import os\n",
    "import array\n",
    "import re\n",
    "\n",
    "import pandas\n",
    "import numpy\n",
    "\n",
    "import plotly.express\n",
    "import librosa\n",
    "from matplotlib import pyplot as plt\n",
    "\n",
    "from software.features.spectral import design_bandpass, plot_bandpass\n",
    "from software.features.featureutils import resample, rms, vector_magnitude\n",
    "from software.dataset.combine import load_data, read_labels, parse_video_filename, apply_labels"
   ]
  },
  {
   "cell_type": "code",
   "execution_count": null,
   "id": "6b7d11bb-d652-4ad5-b049-5722b9f87472",
   "metadata": {},
   "outputs": [],
   "source": [
    "sensor_data_path = 'data/jonnor-brushing-1/har_record/'\n",
    "labels_path  = 'data/jonnor-brushing-1/labels/project-7-at-2024-12-31-23-50-84589958.csv'\n",
    "\n",
    "samplerate = 50\n",
    "lower = 2.0\n",
    "upper = 5.0"
   ]
  },
  {
   "cell_type": "code",
   "execution_count": null,
   "id": "012033b4-0ed3-4a23-9ecc-dbaaafafe239",
   "metadata": {},
   "outputs": [],
   "source": [
    "bandpass_sos = design_bandpass(lower=lower, upper=upper, sr=samplerate, order=2)\n",
    "#plot_bandpass(bandpass_sos, lower=lower, upper=upper, sr=samplerate);"
   ]
  },
  {
   "cell_type": "code",
   "execution_count": null,
   "id": "849ca682-eb5d-49fa-bcfe-a5f5a2b019a4",
   "metadata": {},
   "outputs": [],
   "source": [
    "# Load sensor data\n",
    "data = load_data(sensor_data_path)\n",
    "data = data.drop_duplicates(subset=['time'])\n",
    "print(data.columns)\n",
    "print(data.head(5))"
   ]
  },
  {
   "cell_type": "code",
   "execution_count": null,
   "id": "8ad552b8-9ef2-4119-b908-5930247911bb",
   "metadata": {},
   "outputs": [],
   "source": [
    "# Load labels\n",
    "labels = read_labels(labels_path)\n",
    "labels['gdrive_id'] = labels['filename'].str.replace('ucexportdownloadid', '')\n",
    "labels = labels.drop(columns=['data_url', 'file', 'filename'])\n",
    "labels"
   ]
  },
  {
   "cell_type": "code",
   "execution_count": null,
   "id": "5a899cb0-bd0a-4ea0-ae11-b07bcc52aacb",
   "metadata": {},
   "outputs": [],
   "source": [
    "videos_path = 'data/jonnor-brushing-1/videos.csv'\n",
    "videos = pandas.read_csv(videos_path)\n",
    "videos['file_time'] = videos.filename.apply(parse_video_filename)\n",
    "gdrive_prefix = 'https://drive.google.com/uc?export=download&id='\n",
    "videos['gdrive_id'] = videos['data_url'].str.replace(gdrive_prefix, '')\n",
    "videos = videos.drop(columns=['data_url'])\n",
    "videos"
   ]
  },
  {
   "cell_type": "code",
   "execution_count": null,
   "id": "c5bbd872-2171-4c3f-9e3d-72b3a6ae2fe9",
   "metadata": {},
   "outputs": [],
   "source": [
    "mm = pandas.merge(labels, videos, left_on='gdrive_id', right_on='gdrive_id')\n",
    "mm = mm.drop(columns=['updated_at', 'created_at', 'lead_time', 'annotator', 'annotation_id', 'activity', 'channel', 'id'])\n",
    "align_label = pandas.to_timedelta(mm['label_alignment'], unit='s')\n",
    "mm['start_time'] = mm['file_time'] + align_label + pandas.to_timedelta(mm['start'], unit='s')\n",
    "mm['end_time'] = mm['file_time'] + align_label + pandas.to_timedelta(mm['end'], unit='s')\n",
    "mm['dummy_filename'] = 'only-one-sensor'\n",
    "mm = mm.drop(columns=['file_time', 'start', 'end'])\n",
    "mm = mm.drop(columns=['gdrive_id'])\n",
    "mm"
   ]
  },
  {
   "cell_type": "code",
   "execution_count": null,
   "id": "e2895454-d702-4651-9cc8-25b0a8dd357c",
   "metadata": {},
   "outputs": [],
   "source": [
    "mm.groupby(['filename', 'class'])['duration'].sum()"
   ]
  },
  {
   "cell_type": "code",
   "execution_count": null,
   "id": "718132d2-3225-4da7-af1c-245abb09e808",
   "metadata": {},
   "outputs": [],
   "source": [
    "def apply_sessions(data, labels, pad_start='30s', pad_end='30s'):\n",
    "\n",
    "    pad_start = pandas.Timedelta(pad_start)\n",
    "    pad_end = pandas.Timedelta(pad_end)\n",
    "    \n",
    "    df = data.reset_index().set_index('time').sort_index()\n",
    "    \n",
    "    for idx, ll in labels.groupby('filename'):\n",
    "        s = ll['start_time'].min() - pad_start\n",
    "        e = ll['end_time'].max() + pad_end\n",
    "        s = max(s, df.index.min())\n",
    "        e = min(e, df.index.max())\n",
    "        print(s, e, idx)\n",
    "    \n",
    "        # also assosicate the \"session\"\n",
    "        df.loc[s:e, 'session'] = idx\n",
    "\n",
    "    return df\n",
    "\n",
    "pre = data.copy()\n",
    "pre['dummy_filename'] = 'only-one-sensor'\n",
    "#pre = pre.sort_values('time')\n",
    "ss = apply_labels(pre, mm, groupby='dummy_filename', start='start_time', end='end_time')\n",
    "ss = apply_sessions(ss, mm)\n",
    "ss['is_brushing'] = ss['class'].isin(['brushing'])\n",
    "# drop unlabeled\n",
    "# FIXME: include the sessions without videos??\n",
    "ss = ss.dropna(subset='session')\n",
    "ss"
   ]
  },
  {
   "cell_type": "code",
   "execution_count": null,
   "id": "b296b172-33e7-4df3-8ba3-13105adca5a9",
   "metadata": {},
   "outputs": [],
   "source": [
    "mm"
   ]
  },
  {
   "cell_type": "code",
   "execution_count": null,
   "id": "19978c99-d3fe-47cc-80b6-91c17fe162ce",
   "metadata": {},
   "outputs": [],
   "source": [
    "\n",
    "def plot_session(sensors, labels, title=None, height=300, aspect=3.0):\n",
    "\n",
    "    time_column = 'time'\n",
    "    columns = ['x', 'y', 'z']\n",
    "    width = height * aspect\n",
    "    annotation_column = 'class'\n",
    "    \n",
    "    # TODO: plot other values than raw XYZ.\n",
    "    # Like motion, from removing gravity. Maybe overall RMS, delta rms, band-passed 2-5hz instead of  \n",
    "    sel = sensors.reset_index()\n",
    "    fig = plotly.express.line(sel,\n",
    "                              x=time_column,\n",
    "                              y=columns,\n",
    "                              width=width,\n",
    "                              height=height,\n",
    "                              title=title,\n",
    "                             )\n",
    "    fig.update_traces(connectgaps=False)\n",
    "    fig.update_layout(showlegend=False)\n",
    "\n",
    "    colors = plotly.express.colors.qualitative.Plotly\n",
    "\n",
    "    types = labels[annotation_column].unique()\n",
    "    annotation_colors = { v: c for v, c in zip(types, colors) }\n",
    "    \n",
    "    # FIXME: put this on the bottom\n",
    "    for idx, l in labels.iterrows():\n",
    "        #print(dict(l))\n",
    "        color = annotation_colors[l[annotation_column]]\n",
    "        fig.add_vrect(x0=l['start_time'],\n",
    "                x1=l['end_time'],\n",
    "                line_width=0,\n",
    "                fillcolor=color,\n",
    "                opacity=0.3,\n",
    "                label=dict(\n",
    "                    text=l[annotation_column],\n",
    "                    textposition=\"start\",\n",
    "                    font=dict(size=10, color=\"black\"),\n",
    "                    yanchor=\"top\",\n",
    "                ),\n",
    "         )\n",
    "    \n",
    "    return fig\n",
    "\n",
    "for session, session_data in ss.groupby('session'):\n",
    "    print(session)\n",
    "    ll = mm.set_index('filename').loc[session]\n",
    "    fig = plot_session(session_data, ll, title=session)\n",
    "    fig.show()"
   ]
  },
  {
   "cell_type": "code",
   "execution_count": null,
   "id": "791e5438-4888-426c-92d3-41401c38e2ee",
   "metadata": {},
   "outputs": [],
   "source": [
    "ss.to_parquet('combined.parquet')"
   ]
  },
  {
   "cell_type": "code",
   "execution_count": null,
   "id": "ffdc2597-4881-4e0f-81a0-b47eabe6c152",
   "metadata": {},
   "outputs": [],
   "source": []
  },
  {
   "cell_type": "code",
   "execution_count": null,
   "id": "554e1507-233e-4866-be00-68d8a8c99e50",
   "metadata": {},
   "outputs": [],
   "source": []
  },
  {
   "cell_type": "code",
   "execution_count": null,
   "id": "8ff4da87-919a-4182-9c8d-6905da6e3ed8",
   "metadata": {
    "scrolled": true
   },
   "outputs": [],
   "source": [
    "\n",
    "mm = pp.reset_index()\n",
    "#mm = pandas.merge(mm, filename_meta, left_on='filename', right_on='filename')\n",
    "mm['motion_mag'] = vector_magnitude(mm[['motion_x', 'motion_y', 'motion_z']], axis=1)\n",
    "mm['bandpass_motion_mag'] = vector_magnitude(mm[['bandpass_motion_x', 'bandpass_motion_y', 'bandpass_motion_z']], axis=1)\n",
    "mm"
   ]
  },
  {
   "cell_type": "code",
   "execution_count": null,
   "id": "9a92d903-1b6c-4335-8576-d51c828e5813",
   "metadata": {},
   "outputs": [],
   "source": [
    "\n",
    "\n",
    "freq = '200ms'\n",
    "\n",
    "re1 = resample(sub[['bandpass_motion_mag']], freq=freq, func=lambda a, **kwargs: rms(a.values, axis=0))\n",
    "re2 = resample(sub[['norm_gravity_pca0']], freq=freq, func='mean')\n",
    "\n",
    "m = pandas.merge(re1, re2, right_index=True, left_index=True)\n",
    "m = pandas.merge(m, sub, right_index=True, left_index=True)\n",
    "m"
   ]
  },
  {
   "cell_type": "code",
   "execution_count": null,
   "id": "8eb3d5cc-d421-4ccd-bc31-40e9f381b418",
   "metadata": {},
   "outputs": [],
   "source": []
  },
  {
   "cell_type": "code",
   "execution_count": null,
   "id": "e763947c-e6ed-497a-a06e-c7cb1a32dadc",
   "metadata": {
    "scrolled": true
   },
   "outputs": [],
   "source": []
  },
  {
   "cell_type": "code",
   "execution_count": null,
   "id": "f3972466-5419-4e93-b5cf-fb53305b6708",
   "metadata": {},
   "outputs": [],
   "source": [
    "print(m.elapsed.max())"
   ]
  },
  {
   "cell_type": "code",
   "execution_count": null,
   "id": "8f189576-1d48-4dff-8bc9-0d4e45c00896",
   "metadata": {},
   "outputs": [],
   "source": []
  }
 ],
 "metadata": {
  "kernelspec": {
   "display_name": "Python 3 (ipykernel)",
   "language": "python",
   "name": "python3"
  },
  "language_info": {
   "codemirror_mode": {
    "name": "ipython",
    "version": 3
   },
   "file_extension": ".py",
   "mimetype": "text/x-python",
   "name": "python",
   "nbconvert_exporter": "python",
   "pygments_lexer": "ipython3",
   "version": "3.12.4"
  }
 },
 "nbformat": 4,
 "nbformat_minor": 5
}
