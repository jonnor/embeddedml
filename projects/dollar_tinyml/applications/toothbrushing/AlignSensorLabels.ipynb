{
 "cells": [
  {
   "cell_type": "code",
   "execution_count": null,
   "id": "7e6d76df-7428-4346-be3c-e0bd991bd738",
   "metadata": {},
   "outputs": [],
   "source": [
    "%load_ext autoreload\n",
    "%autoreload 2\n",
    "\n",
    "import sys"
   ]
  },
  {
   "cell_type": "code",
   "execution_count": null,
   "id": "81889137-f979-465b-a5e2-97439b152ee1",
   "metadata": {},
   "outputs": [],
   "source": [
    "import os\n",
    "import array\n",
    "import re\n",
    "\n",
    "import pandas\n",
    "import numpy\n",
    "\n",
    "import plotly.express\n",
    "import librosa\n",
    "from matplotlib import pyplot as plt\n",
    "\n",
    "from software.features.spectral import design_bandpass, plot_bandpass\n",
    "from software.features.featureutils import resample, rms, vector_magnitude\n",
    "from software.dataset.combine import load_data, read_labels, parse_video_filename"
   ]
  },
  {
   "cell_type": "code",
   "execution_count": null,
   "id": "6b7d11bb-d652-4ad5-b049-5722b9f87472",
   "metadata": {},
   "outputs": [],
   "source": [
    "sensor_data_path = 'data/jonnor-brushing-1/har_record/'\n",
    "labels_path  = 'data/jonnor-brushing-1/labels/project-7-at-2024-12-31-23-50-84589958.csv'\n",
    "\n",
    "samplerate = 50\n",
    "lower = 2.0\n",
    "upper = 5.0"
   ]
  },
  {
   "cell_type": "code",
   "execution_count": null,
   "id": "012033b4-0ed3-4a23-9ecc-dbaaafafe239",
   "metadata": {},
   "outputs": [],
   "source": [
    "bandpass_sos = design_bandpass(lower=lower, upper=upper, sr=samplerate, order=2)\n",
    "#plot_bandpass(bandpass_sos, lower=lower, upper=upper, sr=samplerate);"
   ]
  },
  {
   "cell_type": "code",
   "execution_count": null,
   "id": "849ca682-eb5d-49fa-bcfe-a5f5a2b019a4",
   "metadata": {},
   "outputs": [],
   "source": [
    "# Load sensor data\n",
    "data = load_data(sensor_data_path)\n",
    "print(data.columns)\n",
    "print(data.head(5))"
   ]
  },
  {
   "cell_type": "code",
   "execution_count": null,
   "id": "8ad552b8-9ef2-4119-b908-5930247911bb",
   "metadata": {},
   "outputs": [],
   "source": [
    "\n",
    "\n",
    "# Load labels\n",
    "labels = read_labels(labels_path)\n",
    "#labels['start_time'] = labels['']\n",
    "print(labels.filename.unique())\n"
   ]
  },
  {
   "cell_type": "code",
   "execution_count": null,
   "id": "39adecbb-fa11-453b-b2e6-1b3989e9848f",
   "metadata": {},
   "outputs": [],
   "source": [
    "labels['gdrive_id'] = labels['filename'].str.replace('ucexportdownloadid', '')\n",
    "labels.gdrive_id.unique()"
   ]
  },
  {
   "cell_type": "code",
   "execution_count": null,
   "id": "5a899cb0-bd0a-4ea0-ae11-b07bcc52aacb",
   "metadata": {},
   "outputs": [],
   "source": [
    "videos_path = 'data/jonnor-brushing-1/videos.csv'\n",
    "videos = pandas.read_csv(videos_path)\n",
    "videos['file_time'] = videos.filename.apply(parse_video_filename)\n",
    "gdrive_prefix = 'https://drive.google.com/uc?export=download&id='\n",
    "videos['gdrive_id'] = videos['data_url'].str.replace(gdrive_prefix, '')\n",
    "videos"
   ]
  },
  {
   "cell_type": "code",
   "execution_count": null,
   "id": "c5bbd872-2171-4c3f-9e3d-72b3a6ae2fe9",
   "metadata": {},
   "outputs": [],
   "source": [
    "mm = pandas.merge(labels, videos, left_on='gdrive_id', right_on='gdrive_id')\n",
    "mm['start_time'] = mm['file_time'] + pandas.to_timedelta(mm['start'], unit='s')\n",
    "mm['end_time'] = mm['file_time'] + pandas.to_timedelta(mm['end'], unit='s')\n",
    "mm"
   ]
  },
  {
   "cell_type": "code",
   "execution_count": null,
   "id": "8ff4da87-919a-4182-9c8d-6905da6e3ed8",
   "metadata": {
    "scrolled": true
   },
   "outputs": [],
   "source": [
    "\n",
    "mm = pp.reset_index()\n",
    "#mm = pandas.merge(mm, filename_meta, left_on='filename', right_on='filename')\n",
    "mm['motion_mag'] = vector_magnitude(mm[['motion_x', 'motion_y', 'motion_z']], axis=1)\n",
    "mm['bandpass_motion_mag'] = vector_magnitude(mm[['bandpass_motion_x', 'bandpass_motion_y', 'bandpass_motion_z']], axis=1)\n",
    "mm"
   ]
  },
  {
   "cell_type": "code",
   "execution_count": null,
   "id": "9a92d903-1b6c-4335-8576-d51c828e5813",
   "metadata": {},
   "outputs": [],
   "source": [
    "\n",
    "\n",
    "freq = '200ms'\n",
    "\n",
    "re1 = resample(sub[['bandpass_motion_mag']], freq=freq, func=lambda a, **kwargs: rms(a.values, axis=0))\n",
    "re2 = resample(sub[['norm_gravity_pca0']], freq=freq, func='mean')\n",
    "\n",
    "m = pandas.merge(re1, re2, right_index=True, left_index=True)\n",
    "m = pandas.merge(m, sub, right_index=True, left_index=True)\n",
    "m"
   ]
  },
  {
   "cell_type": "code",
   "execution_count": null,
   "id": "8eb3d5cc-d421-4ccd-bc31-40e9f381b418",
   "metadata": {},
   "outputs": [],
   "source": []
  },
  {
   "cell_type": "code",
   "execution_count": null,
   "id": "e763947c-e6ed-497a-a06e-c7cb1a32dadc",
   "metadata": {
    "scrolled": true
   },
   "outputs": [],
   "source": [
    "fig = plotly.express.line(m.reset_index(),\n",
    "                          x='elapsed',\n",
    "                          y=['norm_gravity_pca0_x', 'bandpass_motion_mag_x'],\n",
    "                          #y=['pca0', 'pca1'],\n",
    "                          facet_row='filename',\n",
    "                          facet_row_spacing=0.01,\n",
    "                          width=2000,\n",
    "                          height=200*42)\n",
    "fig.update_layout(showlegend=False)"
   ]
  },
  {
   "cell_type": "code",
   "execution_count": null,
   "id": "f3972466-5419-4e93-b5cf-fb53305b6708",
   "metadata": {},
   "outputs": [],
   "source": [
    "print(m.elapsed.max())"
   ]
  },
  {
   "cell_type": "code",
   "execution_count": null,
   "id": "8f189576-1d48-4dff-8bc9-0d4e45c00896",
   "metadata": {},
   "outputs": [],
   "source": []
  }
 ],
 "metadata": {
  "kernelspec": {
   "display_name": "Python 3 (ipykernel)",
   "language": "python",
   "name": "python3"
  },
  "language_info": {
   "codemirror_mode": {
    "name": "ipython",
    "version": 3
   },
   "file_extension": ".py",
   "mimetype": "text/x-python",
   "name": "python",
   "nbconvert_exporter": "python",
   "pygments_lexer": "ipython3",
   "version": "3.12.4"
  }
 },
 "nbformat": 4,
 "nbformat_minor": 5
}
