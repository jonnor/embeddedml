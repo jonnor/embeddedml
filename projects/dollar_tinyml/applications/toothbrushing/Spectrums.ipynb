{
 "cells": [
  {
   "cell_type": "code",
   "execution_count": null,
   "id": "7e6d76df-7428-4346-be3c-e0bd991bd738",
   "metadata": {},
   "outputs": [],
   "source": [
    "%load_ext autoreload\n",
    "%autoreload 2\n",
    "\n",
    "import sys"
   ]
  },
  {
   "cell_type": "code",
   "execution_count": null,
   "id": "81889137-f979-465b-a5e2-97439b152ee1",
   "metadata": {},
   "outputs": [],
   "source": [
    "import os\n",
    "import array\n",
    "\n",
    "import pandas\n",
    "import numpy\n",
    "\n",
    "import plotly.express\n",
    "import librosa\n",
    "from matplotlib import pyplot as plt\n",
    "\n",
    "from software.dataset.hussain2021 import load_data, load_meta\n",
    "from firmware.process import GravitySplitter"
   ]
  },
  {
   "cell_type": "code",
   "execution_count": null,
   "id": "6b7d11bb-d652-4ad5-b049-5722b9f87472",
   "metadata": {},
   "outputs": [],
   "source": [
    "\n",
    "#dataset_path = './data/hx5kkkbr3j-1'\n",
    "combined_path = './data2/hussain2021_accelerometer_brush_manual.parquet'\n",
    "samplerate = 50\n",
    "lower = 2.0\n",
    "upper = 5.0"
   ]
  },
  {
   "cell_type": "code",
   "execution_count": null,
   "id": "b5cf44d9-63c7-402c-8ca5-fe2fb2ac92a3",
   "metadata": {},
   "outputs": [],
   "source": [
    "acc_re = pandas.read_parquet(combined_path)\n",
    "data_columns = ['acc_x', 'acc_y', 'acc_z', 'elapsed']\n",
    "index_columns = ['filename', 'time']\n",
    "meta_columns = list(set(acc_re.columns) - set(data_columns) - set(index_columns))\n",
    "acc_re"
   ]
  },
  {
   "cell_type": "code",
   "execution_count": null,
   "id": "31afb911-ac59-4ed7-bc23-b03d48e9263a",
   "metadata": {},
   "outputs": [],
   "source": [
    "filename_meta =  acc_re.reset_index().groupby('filename').first()[meta_columns]\n",
    "filename_meta.head(3)"
   ]
  },
  {
   "cell_type": "code",
   "execution_count": null,
   "id": "d8d9cc48-1e8f-4c92-a748-335181316dba",
   "metadata": {},
   "outputs": [],
   "source": [
    "acc_re.reset_index().filename.nunique()"
   ]
  },
  {
   "cell_type": "code",
   "execution_count": null,
   "id": "e0d0bdd2-0298-401b-9e70-184afce84f71",
   "metadata": {},
   "outputs": [],
   "source": [
    "def make_spectrogram(df, sr=50, hop_length=16, columns=None):\n",
    "    if columns is None:\n",
    "        columns = ['acc_x', 'acc_y', 'acc_z']\n",
    "    df = df.sort_values('elapsed')\n",
    "    df = df.dropna(subset=columns)\n",
    "    \n",
    "    n_fft = 4*hop_length\n",
    "\n",
    "    # Make combined XYZ spectrogram, concat on frequency axis\n",
    "    ss = []\n",
    "    for c in columns:\n",
    "        v = df[c].values\n",
    "        S = librosa.stft(v, n_fft=n_fft, hop_length=hop_length)\n",
    "        S = numpy.abs(S)\n",
    "        S = librosa.amplitude_to_db(S)\n",
    "        #S = S[1:,:] # drop DC\n",
    "        ss.append(S)\n",
    "\n",
    "    o = numpy.concatenate(ss)\n",
    "    return o\n",
    "\n",
    "mm = acc_re\n",
    "specs = mm.groupby('filename').apply(make_spectrogram, include_groups=False).to_frame().rename(columns={0:'spectrogram'})\n",
    "specs;"
   ]
  },
  {
   "cell_type": "code",
   "execution_count": null,
   "id": "3c96f961-a44c-4ee2-b437-ba80e1878d3b",
   "metadata": {
    "scrolled": true
   },
   "outputs": [],
   "source": [
    "\n",
    "for filename, spec in specs.iterrows():\n",
    "    #print(filename)\n",
    "    fig, ax = plt.subplots(1, figsize=(20, 5))\n",
    "    S = spec.spectrogram\n",
    "    N = numpy.quantile(S, q=0.10, axis=1, keepdims=True)\n",
    "    #S = S - N\n",
    "    #print(S.shape, N.shape)\n",
    "    librosa.display.specshow(ax=ax, data=S)\n"
   ]
  },
  {
   "cell_type": "code",
   "execution_count": null,
   "id": "6d37f679-451e-48a2-9fa6-3b12090ae819",
   "metadata": {},
   "outputs": [],
   "source": [
    "def to_spectrum(S):\n",
    "    s = numpy.mean(S, axis=1)\n",
    "    o = pandas.Series(s, index=numpy.arange(len(s)))\n",
    "    return o\n",
    "\n",
    "def compute_spectrums(df, sr, metric='motion', axes=['x', 'y', 'z']):\n",
    "    dfs = []\n",
    "    \n",
    "    for axis in axes:\n",
    "        c = f'{metric}_{axis}'\n",
    "\n",
    "        freqs = librosa.fft_frequencies(n_fft=4*16, sr=50)\n",
    "    \n",
    "        specs = df.groupby('filename').apply(make_spectrogram, include_groups=False, columns=[c]).to_frame().rename(columns={0:'spectrogram'})\n",
    "        ss = specs.spectrogram.apply(to_spectrum)\n",
    "        ss.columns = freqs\n",
    "\n",
    "        # Normalize\n",
    "        N = numpy.mean(ss.values, axis=1, keepdims=1)\n",
    "        ss = pandas.DataFrame(ss-N, columns=ss.columns, index=ss.index)\n",
    "        \n",
    "        sf = pandas.melt(ss.reset_index(), id_vars='filename', var_name='frequency')\n",
    "        sf['axis'] = axis\n",
    "        \n",
    "        dfs.append(sf)\n",
    "\n",
    "    out = pandas.concat(dfs)\n",
    "    return out\n",
    "\n",
    "spectrums = compute_spectrums(mm, sr=samplerate, metric='acc')\n",
    "#spectrums\n",
    "\n",
    "fig = plotly.express.line(spectrums,\n",
    "    facet_row='axis',\n",
    "    color='filename',\n",
    "    x='frequency',\n",
    "    y='value',\n",
    "    height=600,\n",
    "    width=1000,\n",
    "    title='Toothbrushing spectrum - Hussain 2021 dataset',\n",
    "    labels={\n",
    "        \"frequency\": \"Frequency (Hz)\",\n",
    "        \"value\": \"Energy (dB)\",\n",
    "     },\n",
    ")\n",
    "\n",
    "fig.add_vrect(x0=lower, x1=upper, line_width=0, fillcolor=\"green\", opacity=0.2, layer='below')\n",
    "fig.update_layout(showlegend=False)"
   ]
  },
  {
   "cell_type": "code",
   "execution_count": null,
   "id": "c4edc5d5-3490-4389-b3b0-15146e2ec059",
   "metadata": {},
   "outputs": [],
   "source": []
  },
  {
   "cell_type": "code",
   "execution_count": null,
   "id": "28dd3c10-0473-4ca3-a626-8736a4625c0c",
   "metadata": {},
   "outputs": [],
   "source": []
  }
 ],
 "metadata": {
  "kernelspec": {
   "display_name": "Python 3 (ipykernel)",
   "language": "python",
   "name": "python3"
  },
  "language_info": {
   "codemirror_mode": {
    "name": "ipython",
    "version": 3
   },
   "file_extension": ".py",
   "mimetype": "text/x-python",
   "name": "python",
   "nbconvert_exporter": "python",
   "pygments_lexer": "ipython3",
   "version": "3.12.4"
  }
 },
 "nbformat": 4,
 "nbformat_minor": 5
}
