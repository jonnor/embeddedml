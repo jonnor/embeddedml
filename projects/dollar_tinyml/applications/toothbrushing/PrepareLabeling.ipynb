{
 "cells": [
  {
   "cell_type": "code",
   "execution_count": null,
   "id": "7e6d76df-7428-4346-be3c-e0bd991bd738",
   "metadata": {},
   "outputs": [],
   "source": [
    "%load_ext autoreload\n",
    "%autoreload 2\n",
    "\n",
    "import sys"
   ]
  },
  {
   "cell_type": "code",
   "execution_count": null,
   "id": "81889137-f979-465b-a5e2-97439b152ee1",
   "metadata": {},
   "outputs": [],
   "source": [
    "import os\n",
    "import array\n",
    "\n",
    "import pandas\n",
    "import numpy\n",
    "\n",
    "import plotly.express\n",
    "import librosa\n",
    "from matplotlib import pyplot as plt\n",
    "\n",
    "from software.dataset.hussain2021 import load_data, load_meta\n",
    "from firmware.process import GravitySplitter"
   ]
  },
  {
   "cell_type": "code",
   "execution_count": null,
   "id": "6b7d11bb-d652-4ad5-b049-5722b9f87472",
   "metadata": {},
   "outputs": [],
   "source": [
    "\n",
    "#dataset_path = './data/hx5kkkbr3j-1'\n",
    "combined_path = './data2/hussain2021_accelerometer_brush_manual.parquet'\n",
    "samplerate = 50\n",
    "lower = 2.0\n",
    "upper = 5.0"
   ]
  },
  {
   "cell_type": "code",
   "execution_count": null,
   "id": "b5cf44d9-63c7-402c-8ca5-fe2fb2ac92a3",
   "metadata": {},
   "outputs": [],
   "source": [
    "acc_re = pandas.read_parquet(combined_path)\n",
    "data_columns = ['acc_x', 'acc_y', 'acc_z', 'elapsed']\n",
    "index_columns = ['filename', 'time']\n",
    "meta_columns = list(set(acc_re.columns) - set(data_columns) - set(index_columns))\n",
    "acc_re"
   ]
  },
  {
   "cell_type": "code",
   "execution_count": null,
   "id": "31afb911-ac59-4ed7-bc23-b03d48e9263a",
   "metadata": {},
   "outputs": [],
   "source": [
    "filename_meta =  acc_re.reset_index().groupby('filename').first()[meta_columns]\n",
    "filename_meta.head(3)"
   ]
  },
  {
   "cell_type": "code",
   "execution_count": null,
   "id": "d8d9cc48-1e8f-4c92-a748-335181316dba",
   "metadata": {},
   "outputs": [],
   "source": [
    "acc_re.reset_index().filename.nunique()"
   ]
  },
  {
   "cell_type": "code",
   "execution_count": null,
   "id": "012033b4-0ed3-4a23-9ecc-dbaaafafe239",
   "metadata": {},
   "outputs": [],
   "source": [
    "\n",
    "def design_bandpass(lower=2.0, upper=5.0, sr=100, order=2):\n",
    "    from scipy.signal import iirfilter\n",
    "    \n",
    "    sos = iirfilter(order, [lower, upper], btype='band',\n",
    "                    analog=False, fs=sr, output='sos',\n",
    "                    ftype='cheby1', rp=2.0)\n",
    "\n",
    "    return sos\n",
    "\n",
    "def plot_bandpass(sos, lower, upper, fmin=0.1, sr=50):\n",
    "\n",
    "    from scipy.signal import sosfreqz\n",
    "    import numpy as np\n",
    "    \n",
    "    w, h = sosfreqz(sos, 10000, fs=sr)\n",
    "    fig, ax = plt.subplots(1)\n",
    "    ax.semilogx(w, 20 * np.log10(np.maximum(abs(h), 1e-5)))\n",
    "    \n",
    "    ax.set_title('Bandpass frequency response')\n",
    "    ax.set_xlabel('Frequency [Hz]')\n",
    "    ax.set_ylabel('Amplitude [dB]')\n",
    "    ax.axis((fmin, sr/2.0, -100, 10))\n",
    "    ax.grid(which='both', axis='both')\n",
    "    for f in [lower, upper]:\n",
    "        ax.axvline(f, ls='--', alpha=0.5, color='black')\n",
    "    return fig\n",
    "\n",
    "\n",
    "sos = design_bandpass(lower=lower, upper=upper, sr=samplerate, order=2)\n",
    "plot_bandpass(sos, lower=lower, upper=upper, sr=samplerate);"
   ]
  },
  {
   "cell_type": "code",
   "execution_count": null,
   "id": "5cc80038-62c4-41fd-8682-f6d983720d79",
   "metadata": {},
   "outputs": [],
   "source": [
    "\n",
    "# TODO: use micropython to process\n",
    "def process(df, sr, bandpass_filter=None, groupby='filename', columns=['acc_x', 'acc_y', 'acc_z'], time='time'):\n",
    "\n",
    "    def process_timeseries(g, splitter=None):\n",
    "        g = g.sort_values(time)\n",
    "        \n",
    "        splitter = GravitySplitter(samplerate=sr)\n",
    "\n",
    "        out = []\n",
    "        index_values = []\n",
    "        for idx, row in g.iterrows():\n",
    "            xyz = array.array('f', row[columns])\n",
    "            splitter.process(xyz)\n",
    "        \n",
    "            values = list(splitter.gravity) + list(splitter.motion)\n",
    "            out.append(values)\n",
    "            index_values.append(idx)\n",
    "\n",
    "        names = ['gravity_x', 'gravity_y', 'gravity_z', 'motion_x', 'motion_y', 'motion_z']\n",
    "        o = pandas.DataFrame(out, columns=names)\n",
    "        o.index = g.index\n",
    "\n",
    "        # apply bandpass\n",
    "        bandpass_columns = ['motion_x', 'motion_y', 'motion_z']\n",
    "        if bandpass_filter is not None:\n",
    "            from scipy.signal import sosfilt\n",
    "            for c in bandpass_columns:\n",
    "                o[f'bandpass_{c}'] = sosfilt(bandpass_filter, o[c])\n",
    "        \n",
    "        print('pp', len(o))\n",
    "        return o\n",
    "\n",
    "    groups = df.groupby(groupby, as_index=False)\n",
    "    print('groups', len(groups))\n",
    "    f = groups.apply(process_timeseries, include_groups=False)\n",
    "    f.index = f.index.droplevel(0)\n",
    "    #print(df.head())\n",
    "    #print('sss\\n\\n')\n",
    "    #print(f.head())\n",
    "    \n",
    "    out = pandas.merge(df, f, left_index=True, right_index=True)\n",
    "    return out\n",
    "\n",
    "sub = acc_re.copy()\n",
    "pp = process(sub, sr=samplerate, bandpass_filter=sos)\n",
    "pp"
   ]
  },
  {
   "cell_type": "code",
   "execution_count": null,
   "id": "8ff4da87-919a-4182-9c8d-6905da6e3ed8",
   "metadata": {
    "scrolled": true
   },
   "outputs": [],
   "source": [
    "def vector_magnitude(vectors, axis=None):\n",
    "    \"\"\"Compute the magnitude of multi-dimensional vectors\"\"\"\n",
    "    # alternative is numpy.linalg.norm(vectors)\n",
    "    mag = numpy.linalg.norm(vectors, axis=axis)\n",
    "    return mag\n",
    "\n",
    "mm = pp.reset_index()\n",
    "#mm = pandas.merge(mm, filename_meta, left_on='filename', right_on='filename')\n",
    "mm['motion_mag'] = vector_magnitude(mm[['motion_x', 'motion_y', 'motion_z']], axis=1)\n",
    "mm['bandpass_motion_mag'] = vector_magnitude(mm[['bandpass_motion_x', 'bandpass_motion_y', 'bandpass_motion_z']], axis=1)\n",
    "mm"
   ]
  },
  {
   "cell_type": "code",
   "execution_count": null,
   "id": "e00ba075-62f8-46cd-afeb-12314e8aa1d4",
   "metadata": {},
   "outputs": [],
   "source": [
    "\n",
    "# Find an simple indicator for typical orientations\n",
    "# Since experimental data has a return to repeated orientation between each of 16 areas to brus\n",
    "# Using PCA to transform into 1d\n",
    "\n",
    "from sklearn.decomposition import PCA\n",
    "columns = ['gravity_x', 'gravity_y', 'gravity_z']\n",
    "pca = PCA(n_components=1).set_output(transform=\"pandas\")\n",
    "sub = mm.dropna(subset=columns)\n",
    "train = sub[sub.elapsed>15.0] # avoid starts\n",
    "pca.fit(train[columns])\n",
    "X = pca.transform(sub[columns]).add_prefix('gravity_')\n",
    "\n",
    "sub = pandas.merge(sub, X, left_index=True, right_index=True)\n",
    "sub = sub.set_index(['filename', 'time'])\n",
    "#fig = plotly.express.scatter(sub.sample(frac=0.1), x='pca0', y='pca1', opacity=0.2, height=800, width=800, color='filename')\n",
    "#fig.update_traces(marker=dict(size=3.0))\n",
    "#fig.update_layout(showlegend=False)\n",
    "sub.head(5)"
   ]
  },
  {
   "cell_type": "code",
   "execution_count": null,
   "id": "9a92d903-1b6c-4335-8576-d51c828e5813",
   "metadata": {},
   "outputs": [],
   "source": [
    "\n",
    "def rms(x, axis=None):    \n",
    "    from numpy import sqrt, mean\n",
    "    return sqrt(mean(x**2, axis=axis))\n",
    "\n",
    "\n",
    "def normalize(df, agg='max', group='filename', numeric_only=True):\n",
    "    df = df.copy()\n",
    "    grouped = df.groupby(group, as_index=False, observed=True)\n",
    "    agg_grouped = df.groupby(group, as_index=True, observed=True)\n",
    "    norm = agg_grouped.agg(agg, numeric_only=numeric_only)\n",
    "    #print(norm)\n",
    "\n",
    "    def norm_one(s):\n",
    "        group = s.name\n",
    "        s = s.select_dtypes(include='number')\n",
    "        n = norm.loc[group]\n",
    "        o = s - n\n",
    "        return o\n",
    "\n",
    "    out = grouped.apply(norm_one, include_groups=True)\n",
    "    # FIXME: avoid hardcoding\n",
    "    out = out.reset_index().set_index(['filename', 'time'])\n",
    "\n",
    "    return out\n",
    "\n",
    "n = (normalize(sub) + 1.0)['gravity_pca0']\n",
    "print(n.head(5))\n",
    "sub['norm_gravity_pca0'] = n\n"
   ]
  },
  {
   "cell_type": "code",
   "execution_count": null,
   "id": "8eb3d5cc-d421-4ccd-bc31-40e9f381b418",
   "metadata": {},
   "outputs": [],
   "source": [
    "freq = '200ms'\n",
    "from software.dataset.hussain2021 import resample\n",
    "re1 = resample(sub[['bandpass_motion_mag']], freq=freq, func=lambda a, **kwargs: rms(a.values, axis=0))\n",
    "re2 = resample(sub[['norm_gravity_pca0']], freq=freq, func='mean')\n",
    "\n",
    "m = pandas.merge(re1, re2, right_index=True, left_index=True)\n",
    "m = pandas.merge(m, sub, right_index=True, left_index=True)\n",
    "m"
   ]
  },
  {
   "cell_type": "code",
   "execution_count": null,
   "id": "e763947c-e6ed-497a-a06e-c7cb1a32dadc",
   "metadata": {},
   "outputs": [],
   "source": [
    "fig = plotly.express.line(m.reset_index(),\n",
    "                          x='elapsed',\n",
    "                          y=['norm_gravity_pca0_x', 'bandpass_motion_mag_x'],\n",
    "                          #y=['pca0', 'pca1'],\n",
    "                          facet_row='filename',\n",
    "                          facet_row_spacing=0.01,\n",
    "                          width=2000,\n",
    "                          height=200*42)\n",
    "fig.update_layout(showlegend=False)"
   ]
  },
  {
   "cell_type": "code",
   "execution_count": null,
   "id": "f3972466-5419-4e93-b5cf-fb53305b6708",
   "metadata": {},
   "outputs": [],
   "source": [
    "print(m.elapsed.max())"
   ]
  },
  {
   "cell_type": "code",
   "execution_count": null,
   "id": "28dd3c10-0473-4ca3-a626-8736a4625c0c",
   "metadata": {},
   "outputs": [],
   "source": [
    "\n",
    "export = m.reset_index().rename(columns={\n",
    "    'norm_gravity_pca0_x': 'brush_orientation',\n",
    "    'bandpass_motion_mag_x': 'brushing_energy',\n",
    "})\n",
    "columns = [\n",
    "    'filename',\n",
    "    'time',\n",
    "    'elapsed',\n",
    "    'brush_orientation',\n",
    "    'brushing_energy',\n",
    "]\n",
    "export = export[columns]\n",
    "\n",
    "out_dir = 'data2/for_labeling'\n",
    "if not os.path.exists(out_dir):\n",
    "    os.makedirs(out_dir)\n",
    "groups = list(export.groupby('filename'))\n",
    "print('files', len(groups))\n",
    "for filename, df in groups:\n",
    "    p = os.path.join(out_dir, f'label_{filename}')\n",
    "    df.to_csv(p)\n",
    "    print(p)\n",
    "\n"
   ]
  },
  {
   "cell_type": "code",
   "execution_count": null,
   "id": "56142064-8755-4f0e-94da-1e5e09fe393e",
   "metadata": {},
   "outputs": [],
   "source": []
  },
  {
   "cell_type": "code",
   "execution_count": null,
   "id": "fab616a4-7f05-471b-951f-60b35d6e5beb",
   "metadata": {},
   "outputs": [],
   "source": []
  },
  {
   "cell_type": "code",
   "execution_count": null,
   "id": "d2262f0b-b3dc-472b-bb07-fc9985ee67cc",
   "metadata": {},
   "outputs": [],
   "source": []
  }
 ],
 "metadata": {
  "kernelspec": {
   "display_name": "Python 3 (ipykernel)",
   "language": "python",
   "name": "python3"
  },
  "language_info": {
   "codemirror_mode": {
    "name": "ipython",
    "version": 3
   },
   "file_extension": ".py",
   "mimetype": "text/x-python",
   "name": "python",
   "nbconvert_exporter": "python",
   "pygments_lexer": "ipython3",
   "version": "3.12.4"
  }
 },
 "nbformat": 4,
 "nbformat_minor": 5
}
